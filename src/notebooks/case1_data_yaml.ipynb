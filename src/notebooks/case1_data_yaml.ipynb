{
 "cells": [
  {
   "cell_type": "code",
   "execution_count": 1,
   "metadata": {
    "ExecuteTime": {
     "end_time": "2024-12-14T19:54:22.784010Z",
     "start_time": "2024-12-14T19:54:22.773469Z"
    }
   },
   "outputs": [],
   "source": [
    "import os\n",
    "import sys\n",
    "\n",
    "module_path = os.path.abspath(os.path.join(\"..\"))\n",
    "sys.path.insert(0, module_path)\n",
    "\n",
    "from planning.config import (  # noqa: E402\n",
    "    employee_restrictions,\n",
    ")\n",
    "from planning.employee import (  # noqa: E402\n",
    "    create_employees_with_dates,\n",
    "    create_transposed_dataframe,\n",
    "    generate_excel,\n",
    "    generate_summary,\n",
    "    generate_transposed_excel_with_styles,\n",
    "    init_employees_by_shifts,\n",
    "    load_planning_from_yaml,\n",
    "    load_employees_from_yaml,\n",
    "    modify_index_to_datetime,\n",
    ")\n",
    "\n",
    "year = 2025\n",
    "start_date = f\"{year}-01-01\"\n",
    "\n",
    "employees_file = os.path.join(\"..\",\"..\",\"data\", \"2025\", \"case_1\", \"employees.yaml\")\n",
    "planning_file = os.path.join(\"..\",\"..\",\"data\", \"2025\", \"case_1\", \"data.yaml\")\n",
    "\n",
    "employees = load_employees_from_yaml(employees_file, employee_restrictions)\n",
    "employees_info, dates = create_employees_with_dates(start_date, 365, employees)\n",
    "all_employees_by_shift = init_employees_by_shifts(dates, employee_restrictions)\n",
    "\n",
    "load_planning_from_yaml(employees_info, planning_file)\n"
   ]
  },
  {
   "cell_type": "code",
   "execution_count": null,
   "metadata": {},
   "outputs": [],
   "source": [
    "employees_info"
   ]
  },
  {
   "cell_type": "markdown",
   "metadata": {},
   "source": []
  },
  {
   "cell_type": "code",
   "execution_count": 3,
   "metadata": {},
   "outputs": [],
   "source": [
    "modify_index_to_datetime(all_employees_by_shift)\n",
    "modify_index_to_datetime(employees_info)\n",
    "\n",
    "generate_excel(employees_info, f\"samples/{year}_employees_0.xlsx\")\n",
    "\n",
    "transposed_employees_info = create_transposed_dataframe(employees_info)\n",
    "transposed_employees_info = generate_summary(employees, employee_restrictions, transposed_employees_info)\n",
    "\n",
    "generate_transposed_excel_with_styles(\n",
    "    transposed_employees_info, employee_restrictions, f\"samples/{year}_planning_0.xlsx\"\n",
    ")"
   ]
  },
  {
   "cell_type": "code",
   "execution_count": null,
   "metadata": {},
   "outputs": [],
   "source": [
    "transposed_employees_info\n"
   ]
  }
 ],
 "metadata": {
  "kernelspec": {
   "display_name": "3.13.0",
   "language": "python",
   "name": "python3"
  },
  "language_info": {
   "codemirror_mode": {
    "name": "ipython",
    "version": 3
   },
   "file_extension": ".py",
   "mimetype": "text/x-python",
   "name": "python",
   "nbconvert_exporter": "python",
   "pygments_lexer": "ipython3",
   "version": "3.13.0"
  }
 },
 "nbformat": 4,
 "nbformat_minor": 4
}
