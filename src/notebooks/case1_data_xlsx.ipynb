{
 "cells": [
  {
   "cell_type": "code",
   "execution_count": 7,
   "metadata": {
    "ExecuteTime": {
     "end_time": "2024-12-14T19:54:22.784010Z",
     "start_time": "2024-12-14T19:54:22.773469Z"
    }
   },
   "outputs": [],
   "source": [
    "import locale\n",
    "import os\n",
    "import sys\n",
    "\n",
    "import pandas as pd\n",
    "\n",
    "module_path = os.path.abspath(os.path.join(\"..\"))\n",
    "sys.path.insert(0, module_path)\n",
    "\n",
    "\n",
    "from openpyxl import (\n",
    "    Workbook,\n",
    ")\n",
    "\n",
    "from planning.config import (  # noqa: E402\n",
    "    employee_restrictions,\n",
    ")\n",
    "from planning.employee import (  # noqa: E402\n",
    "    create_employees_with_dates,\n",
    "    generate_summary_total,\n",
    "    init_employees_by_shifts,\n",
    "    load_employees_from_yaml,\n",
    "    export_month,\n",
    "    add_total_data,\n",
    ")\n",
    "\n",
    "\n",
    "locale.setlocale(locale.LC_TIME, \"es_ES.UTF-8\")\n",
    "\n",
    "year = 2025\n",
    "start_date = f\"{year}-01-01\"\n",
    "\n",
    "employees_file = os.path.join(\"..\", \"..\", \"data\", \"2025\", \"case_1\", \"employees.yaml\")\n",
    "planning_file = os.path.join(\"..\", \"..\", \"data\", \"2025\", \"case_1\", \"data.xlsx\")\n",
    "output_file = os.path.join(\"samples\", f\"{year}_planning_0.xlsx\")\n",
    "\n",
    "employees = load_employees_from_yaml(employees_file, employee_restrictions)\n",
    "employees_info, dates = create_employees_with_dates(start_date, 365, employees)\n",
    "all_employees_by_shift = init_employees_by_shifts(dates, employee_restrictions)\n",
    "\n",
    "planning_data = pd.read_excel(planning_file, sheet_name=None)\n",
    "locale.setlocale(locale.LC_TIME, \"es_ES.UTF-8\")\n",
    "\n",
    "year = 2025\n",
    "start_date = f\"{year}-01-01\"\n",
    "\n",
    "employees_file = os.path.join(\"..\", \"..\", \"data\", \"2025\", \"case_1\", \"employees.yaml\")\n",
    "planning_file = os.path.join(\"..\", \"..\", \"data\", \"2025\", \"case_1\", \"data.xlsx\")\n",
    "output_file = os.path.join(\"samples\", f\"{year}_planning.xlsx\")\n",
    "planning_data = pd.read_excel(planning_file, index_col=0, na_filter=False, sheet_name=None)\n",
    "total_data = generate_summary_total(employees, employee_restrictions, planning_data)"
   ]
  },
  {
   "cell_type": "code",
   "execution_count": 5,
   "metadata": {},
   "outputs": [],
   "source": [
    "wb = Workbook()\n",
    "wb.remove(wb.active)\n",
    "\n",
    "for month in range(1, 13):\n",
    "    export_month(wb, f\"{month:02d}\", planning_data)\n",
    "    \n",
    "add_total_data(wb, total_data)\n",
    "    \n",
    "wb.save(output_file)\n"
   ]
  },
  {
   "cell_type": "markdown",
   "metadata": {},
   "source": []
  }
 ],
 "metadata": {
  "kernelspec": {
   "display_name": "3.13.0",
   "language": "python",
   "name": "python3"
  },
  "language_info": {
   "codemirror_mode": {
    "name": "ipython",
    "version": 3
   },
   "file_extension": ".py",
   "mimetype": "text/x-python",
   "name": "python",
   "nbconvert_exporter": "python",
   "pygments_lexer": "ipython3",
   "version": "3.13.0"
  }
 },
 "nbformat": 4,
 "nbformat_minor": 4
}
